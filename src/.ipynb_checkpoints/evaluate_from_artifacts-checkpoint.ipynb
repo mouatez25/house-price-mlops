{
 "cells": [
  {
   "cell_type": "markdown",
   "id": "7c8a59c4",
   "metadata": {},
   "source": [
    "# 🧪 Regression Evaluation with MLflow Artifacts"
   ]
  },
  {
   "cell_type": "code",
   "execution_count": null,
   "id": "8fa6fe17",
   "metadata": {},
   "outputs": [],
   "source": [
    "import pandas as pd\n",
    "import joblib\n",
    "import mlflow\n",
    "import mlflow.sklearn\n",
    "from src.evaluate_model import evaluate_model, plot_predictions\n",
    "from mlflow.tracking import MlflowClient\n",
    "import os"
   ]
  },
  {
   "cell_type": "markdown",
   "id": "e1a780fd",
   "metadata": {},
   "source": [
    "## Step 1: Load model and artifacts from a specific MLflow run"
   ]
  },
  {
   "cell_type": "code",
   "execution_count": null,
   "id": "c71f016d",
   "metadata": {},
   "outputs": [],
   "source": [
    "# Replace with the actual run ID printed by train.py\n",
    "run_id = \"<PASTE_YOUR_RUN_ID_HERE>\"\n",
    "mlflow.set_tracking_uri(\"http://127.0.0.1:5000\")\n",
    "client = MlflowClient()\n",
    "\n",
    "# Download X_test and y_test from artifacts\n",
    "artifact_dir = client.download_artifacts(run_id, \".\", dst_path=\"temp_eval_data\")\n",
    "X_test = pd.read_csv(os.path.join(artifact_dir, \"X_test.csv\"))\n",
    "y_test = pd.read_csv(os.path.join(artifact_dir, \"y_test.csv\")).squeeze()"
   ]
  },
  {
   "cell_type": "markdown",
   "id": "fb78bf1e",
   "metadata": {},
   "source": [
    "## Step 2: Load the trained model from disk"
   ]
  },
  {
   "cell_type": "code",
   "execution_count": null,
   "id": "9b1bf413",
   "metadata": {},
   "outputs": [],
   "source": [
    "# Make sure this matches the model that produced the run_id\n",
    "model = joblib.load(\"models/dev/house_price_model.pkl\")"
   ]
  },
  {
   "cell_type": "markdown",
   "id": "472fdabf",
   "metadata": {},
   "source": [
    "## Step 3: Evaluate and log test metrics"
   ]
  },
  {
   "cell_type": "code",
   "execution_count": null,
   "id": "b1a2d9d4",
   "metadata": {},
   "outputs": [],
   "source": [
    "mlflow.set_experiment(\"Regression_House_Price_Prediction_Models\")\n",
    "with mlflow.start_run():\n",
    "    y_pred = model.predict(X_test)\n",
    "    metrics = evaluate_model(y_test, y_pred, model_name=\"house_price_model_v1\")\n",
    "    plot_predictions(y_test, y_pred)\n",
    "    mlflow.set_tag(\"evaluated_from\", run_id)"
   ]
  }
 ],
 "metadata": {},
 "nbformat": 4,
 "nbformat_minor": 5
}
