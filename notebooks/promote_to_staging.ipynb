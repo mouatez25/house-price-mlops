{
 "cells": [
  {
   "cell_type": "markdown",
   "id": "ce631e79",
   "metadata": {},
   "source": [
    "# 🚀 Promote Model from Dev to Staging"
   ]
  },
  {
   "cell_type": "code",
   "execution_count": 1,
   "id": "a933e20a-09cc-4113-9fb9-6801971f2c95",
   "metadata": {
    "execution": {
     "iopub.execute_input": "2025-04-23T14:01:22.626303Z",
     "iopub.status.busy": "2025-04-23T14:01:22.626066Z",
     "iopub.status.idle": "2025-04-23T14:01:22.656367Z",
     "shell.execute_reply": "2025-04-23T14:01:22.655992Z",
     "shell.execute_reply.started": "2025-04-23T14:01:22.626288Z"
    }
   },
   "outputs": [
    {
     "name": "stdout",
     "output_type": "stream",
     "text": [
      "✅ Model promoted from dev to staging.\n"
     ]
    }
   ],
   "source": [
    "\n",
    "import shutil\n",
    "import os\n",
    "from datetime import datetime\n",
    "\n",
    "src = \"../models/dev/house_price_model.pkl\"\n",
    "dst = \"../models/staging/house_price_model.pkl\"\n",
    "\n",
    "if not os.path.exists(src):\n",
    "    raise FileNotFoundError(\"🚫 dev model not found.\")\n",
    "\n",
    "shutil.copy(src, dst)\n",
    "print(\"✅ Model promoted from dev to staging.\")\n",
    "\n",
    "# Log the promotion\n",
    "os.makedirs(\"../logs\", exist_ok=True)\n",
    "timestamp = datetime.now().strftime(\"%Y-%m-%d %H:%M:%S\")\n",
    "with open(\"../logs/promotion_log.txt\", \"a\") as f:\n",
    "    f.write(f\"{timestamp} | PROMOTE: dev → staging | ✅ Success\\n\")"
   ]
  },
  {
   "cell_type": "code",
   "execution_count": null,
   "id": "7348fce0-5df6-4224-9973-66222df70ddc",
   "metadata": {},
   "outputs": [],
   "source": []
  }
 ],
 "metadata": {
  "kernelspec": {
   "display_name": "Python 3.11.5",
   "language": "python",
   "name": "python3"
  },
  "language_info": {
   "codemirror_mode": {
    "name": "ipython",
    "version": 3
   },
   "file_extension": ".py",
   "mimetype": "text/x-python",
   "name": "python",
   "nbconvert_exporter": "python",
   "pygments_lexer": "ipython3",
   "version": "3.11.9"
  }
 },
 "nbformat": 4,
 "nbformat_minor": 5
}
