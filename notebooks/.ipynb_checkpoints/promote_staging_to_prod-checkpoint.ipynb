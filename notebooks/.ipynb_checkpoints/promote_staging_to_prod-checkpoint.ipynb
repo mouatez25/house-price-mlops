{
 "cells": [
  {
   "cell_type": "markdown",
   "id": "a322f4a9",
   "metadata": {},
   "source": [
    "# 🚀 Promote Staging Model to Production"
   ]
  },
  {
   "cell_type": "code",
   "execution_count": null,
   "id": "b9f2a9df",
   "metadata": {},
   "outputs": [],
   "source": [
    "\n",
    "import shutil\n",
    "import os\n",
    "from datetime import datetime\n",
    "\n",
    "src = \"../models/staging/house_price_model.pkl\"\n",
    "dst = \"../models/prod/house_price_model.pkl\"\n",
    "\n",
    "if not os.path.exists(src):\n",
    "    raise FileNotFoundError(\"🚫 Staging model not found.\")\n",
    "\n",
    "shutil.copy(src, dst)\n",
    "print(\"✅ Model promoted from staging to production.\")\n",
    "\n",
    "# Log the promotion\n",
    "os.makedirs(\"../logs\", exist_ok=True)\n",
    "timestamp = datetime.now().strftime(\"%Y-%m-%d %H:%M:%S\")\n",
    "with open(\"../logs/promotion_log.txt\", \"a\") as f:\n",
    "    f.write(f\"{timestamp} | PROMOTE: staging → prod | ✅ Success\\n\")\n"
   ]
  }
 ],
 "metadata": {},
 "nbformat": 4,
 "nbformat_minor": 5
}
