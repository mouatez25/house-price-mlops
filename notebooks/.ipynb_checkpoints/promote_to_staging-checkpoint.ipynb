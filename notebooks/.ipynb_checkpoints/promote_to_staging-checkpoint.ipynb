{
 "cells": [
  {
   "cell_type": "markdown",
   "id": "ce631e79",
   "metadata": {},
   "source": [
    "# 🚀 Promote Model from Dev to Staging"
   ]
  },
  {
   "cell_type": "code",
   "execution_count": null,
   "id": "d808c3bd",
   "metadata": {},
   "outputs": [],
   "source": [
    "\n",
    "import shutil\n",
    "\n",
    "# Promote model\n",
    "shutil.copy(\"../models/dev/house_price_model.pkl\", \"../models/staging/house_price_model.pkl\")\n",
    "print(\"✅ Model promoted from dev to staging.\")\n"
   ]
  }
 ],
 "metadata": {},
 "nbformat": 4,
 "nbformat_minor": 5
}
