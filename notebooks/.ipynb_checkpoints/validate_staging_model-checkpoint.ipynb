{
 "cells": [
  {
   "cell_type": "markdown",
   "id": "665bf163",
   "metadata": {},
   "source": [
    "# ✅ Validate Staging Model"
   ]
  },
  {
   "cell_type": "code",
   "execution_count": null,
   "id": "a7d8bdb5",
   "metadata": {},
   "outputs": [],
   "source": [
    "\n",
    "from src import validate\n",
    "\n",
    "# Validate model from staging directory\n",
    "validate.validate_model(stage=\"staging\", threshold=30000)\n"
   ]
  }
 ],
 "metadata": {},
 "nbformat": 4,
 "nbformat_minor": 5
}
