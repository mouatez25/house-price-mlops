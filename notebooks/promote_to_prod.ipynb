{
 "cells": [
  {
   "cell_type": "markdown",
   "id": "ce631e79",
   "metadata": {},
   "source": [
    "# 🚀 Promote Model from  Staging to prod"
   ]
  },
  {
   "cell_type": "code",
   "execution_count": null,
   "id": "d808c3bd",
   "metadata": {},
   "outputs": [],
   "source": [
    "\n",
    "import shutil\n",
    "\n",
    "# Promote model\n",
    "shutil.copy(\"../models/staging/house_price_model.pkl\", \"../models/prod/house_price_model.pkl\")\n",
    "print(\"✅ Model promoted from staging to prod.\")\n",
    "\n",
    "#models/staging/house_price_model.pkl → models/prod/house_price_model.pkl\n",
    "\n"
   ]
  }
 ],
 "metadata": {
  "kernelspec": {
   "display_name": "Python 3.11.5",
   "language": "python",
   "name": "python3"
  },
  "language_info": {
   "codemirror_mode": {
    "name": "ipython",
    "version": 3
   },
   "file_extension": ".py",
   "mimetype": "text/x-python",
   "name": "python",
   "nbconvert_exporter": "python",
   "pygments_lexer": "ipython3",
   "version": "3.11.9"
  }
 },
 "nbformat": 4,
 "nbformat_minor": 5
}
