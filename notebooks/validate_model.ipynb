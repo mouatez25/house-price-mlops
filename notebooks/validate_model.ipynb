{
 "cells": [
  {
   "cell_type": "markdown",
   "id": "ae0a135e",
   "metadata": {},
   "source": [
    "# ✅ Validate House Price Model"
   ]
  },
  {
   "cell_type": "code",
   "execution_count": null,
   "id": "fc522377",
   "metadata": {},
   "outputs": [],
   "source": [
    "\n",
    "import pandas as pd\n",
    "from sklearn.metrics import mean_absolute_error\n",
    "import joblib\n",
    "\n",
    "# Load data\n",
    "df = pd.read_csv(\"../data/house_price_data.csv\")\n",
    "X = df.drop(\"price\", axis=1)\n",
    "y = df[\"price\"]\n",
    "\n",
    "# Load model\n",
    "model = joblib.load(\"../models/dev/house_price_model.pkl\")\n",
    "\n",
    "# Validate\n",
    "preds = model.predict(X)\n",
    "mae = mean_absolute_error(y, preds)\n",
    "print(f\"Validation MAE: ${mae:,.2f}\")\n",
    "\n",
    "# Raise error if performance is poor\n",
    "assert mae < 40000, \"MAE too high!\"\n"
   ]
  }
 ],
 "metadata": {
  "kernelspec": {
   "display_name": "Python 3.11.5",
   "language": "python",
   "name": "python3"
  },
  "language_info": {
   "codemirror_mode": {
    "name": "ipython",
    "version": 3
   },
   "file_extension": ".py",
   "mimetype": "text/x-python",
   "name": "python",
   "nbconvert_exporter": "python",
   "pygments_lexer": "ipython3",
   "version": "3.11.9"
  }
 },
 "nbformat": 4,
 "nbformat_minor": 5
}
