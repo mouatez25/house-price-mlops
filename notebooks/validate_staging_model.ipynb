{
 "cells": [
  {
   "cell_type": "markdown",
   "id": "665bf163",
   "metadata": {},
   "source": [
    "# ✅ Validate Staging Model"
   ]
  },
  {
   "cell_type": "code",
   "execution_count": null,
   "id": "a7d8bdb5",
   "metadata": {},
   "outputs": [],
   "source": [
    "\n",
    "from src import validate\n",
    "\n",
    "# Validate model from staging directory\n",
    "validate.validate_model(stage=\"staging\", threshold=30000)\n"
   ]
  }
 ],
 "metadata": {
  "kernelspec": {
   "display_name": "Python 3.11.5",
   "language": "python",
   "name": "python3"
  },
  "language_info": {
   "codemirror_mode": {
    "name": "ipython",
    "version": 3
   },
   "file_extension": ".py",
   "mimetype": "text/x-python",
   "name": "python",
   "nbconvert_exporter": "python",
   "pygments_lexer": "ipython3",
   "version": "3.11.9"
  }
 },
 "nbformat": 4,
 "nbformat_minor": 5
}
