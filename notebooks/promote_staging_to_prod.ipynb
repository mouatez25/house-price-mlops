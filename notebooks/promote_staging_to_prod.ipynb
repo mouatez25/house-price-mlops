{
 "cells": [
  {
   "cell_type": "markdown",
   "id": "a322f4a9",
   "metadata": {},
   "source": [
    "# 🚀 Promote Staging Model to Production"
   ]
  },
  {
   "cell_type": "code",
   "execution_count": 1,
   "id": "b9f2a9df",
   "metadata": {
    "execution": {
     "iopub.execute_input": "2025-04-22T19:40:58.678317Z",
     "iopub.status.busy": "2025-04-22T19:40:58.678009Z",
     "iopub.status.idle": "2025-04-22T19:40:58.719119Z",
     "shell.execute_reply": "2025-04-22T19:40:58.718722Z",
     "shell.execute_reply.started": "2025-04-22T19:40:58.678297Z"
    }
   },
   "outputs": [
    {
     "name": "stdout",
     "output_type": "stream",
     "text": [
      "✅ Model promoted from staging to production.\n"
     ]
    }
   ],
   "source": [
    "\n",
    "import shutil\n",
    "import os\n",
    "from datetime import datetime\n",
    "\n",
    "src = \"../models/staging/house_price_model.pkl\"\n",
    "dst = \"../models/prod/house_price_model.pkl\"\n",
    "\n",
    "if not os.path.exists(src):\n",
    "    raise FileNotFoundError(\"🚫 Staging model not found.\")\n",
    "\n",
    "shutil.copy(src, dst)\n",
    "print(\"✅ Model promoted from staging to production.\")\n",
    "\n",
    "# Log the promotion\n",
    "os.makedirs(\"../logs\", exist_ok=True)\n",
    "timestamp = datetime.now().strftime(\"%Y-%m-%d %H:%M:%S\")\n",
    "with open(\"../logs/promotion_log.txt\", \"a\") as f:\n",
    "    f.write(f\"{timestamp} | PROMOTE: staging → prod | ✅ Success\\n\")\n"
   ]
  },
  {
   "cell_type": "code",
   "execution_count": null,
   "id": "c27239d9-a6ac-4e65-a593-a640215424ff",
   "metadata": {},
   "outputs": [],
   "source": []
  }
 ],
 "metadata": {
  "kernelspec": {
   "display_name": "Python 3.11.5",
   "language": "python",
   "name": "python3"
  },
  "language_info": {
   "codemirror_mode": {
    "name": "ipython",
    "version": 3
   },
   "file_extension": ".py",
   "mimetype": "text/x-python",
   "name": "python",
   "nbconvert_exporter": "python",
   "pygments_lexer": "ipython3",
   "version": "3.11.9"
  }
 },
 "nbformat": 4,
 "nbformat_minor": 5
}
